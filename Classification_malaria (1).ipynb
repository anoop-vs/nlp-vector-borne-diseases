{
  "nbformat": 4,
  "nbformat_minor": 0,
  "metadata": {
    "colab": {
      "provenance": []
    },
    "kernelspec": {
      "name": "python3",
      "display_name": "Python 3"
    },
    "language_info": {
      "name": "python"
    },
    "accelerator": "GPU",
    "gpuClass": "standard"
  },
  "cells": [
    {
      "cell_type": "markdown",
      "source": [
        "## SVM + TDIDF"
      ],
      "metadata": {
        "id": "J5zdv8VOn5Jg"
      }
    },
    {
      "cell_type": "code",
      "source": [
        "from google.colab import drive\n",
        "drive.mount('/content/drive')"
      ],
      "metadata": {
        "colab": {
          "base_uri": "https://localhost:8080/"
        },
        "id": "V6BKeRaPoBBg",
        "outputId": "7dd1a62b-47b1-4506-c951-1f38846b27d5"
      },
      "execution_count": 2,
      "outputs": [
        {
          "output_type": "stream",
          "name": "stdout",
          "text": [
            "Drive already mounted at /content/drive; to attempt to forcibly remount, call drive.mount(\"/content/drive\", force_remount=True).\n"
          ]
        }
      ]
    },
    {
      "cell_type": "code",
      "execution_count": 1,
      "metadata": {
        "id": "6yryfegqgh1m"
      },
      "outputs": [],
      "source": [
        "import pandas as pd\n",
        "import numpy as np\n",
        "from sklearn.svm import SVC\n",
        "import seaborn as sns\n",
        "from sklearn.naive_bayes import MultinomialNB\n",
        "from sklearn.linear_model import LogisticRegression\n",
        "from sklearn.ensemble import RandomForestClassifier\n",
        "from sklearn.model_selection import train_test_split\n",
        "from sklearn.metrics import accuracy_score\n",
        "from sklearn.metrics import classification_report, confusion_matrix"
      ]
    },
    {
      "cell_type": "code",
      "source": [
        "data = pd.read_csv('/content/drive/MyDrive/dataset_ner_tsv/merged_file.tsv', sep='\\t')"
      ],
      "metadata": {
        "id": "rTI5RY_mhvw5"
      },
      "execution_count": 2,
      "outputs": []
    },
    {
      "cell_type": "code",
      "source": [
        "data"
      ],
      "metadata": {
        "colab": {
          "base_uri": "https://localhost:8080/",
          "height": 423
        },
        "id": "47CCDTDWihPa",
        "outputId": "b21ec152-7187-46d1-8726-60f4783c1901"
      },
      "execution_count": 3,
      "outputs": [
        {
          "output_type": "execute_result",
          "data": {
            "text/plain": [
              "            text      label\n",
              "0       COVID-19  S-Disease\n",
              "1       COVID-19  S-Disease\n",
              "2       COVID-19  S-Disease\n",
              "3        malaria  S-Disease\n",
              "4            HIV  S-Disease\n",
              "...          ...        ...\n",
              "113149        do          O\n",
              "113150    Estado          O\n",
              "113151        do          O\n",
              "113152  Amazonas          O\n",
              "113153    FAPEAM          O\n",
              "\n",
              "[113154 rows x 2 columns]"
            ],
            "text/html": [
              "\n",
              "  <div id=\"df-7703a827-6238-4e61-9500-8847e75af9cb\">\n",
              "    <div class=\"colab-df-container\">\n",
              "      <div>\n",
              "<style scoped>\n",
              "    .dataframe tbody tr th:only-of-type {\n",
              "        vertical-align: middle;\n",
              "    }\n",
              "\n",
              "    .dataframe tbody tr th {\n",
              "        vertical-align: top;\n",
              "    }\n",
              "\n",
              "    .dataframe thead th {\n",
              "        text-align: right;\n",
              "    }\n",
              "</style>\n",
              "<table border=\"1\" class=\"dataframe\">\n",
              "  <thead>\n",
              "    <tr style=\"text-align: right;\">\n",
              "      <th></th>\n",
              "      <th>text</th>\n",
              "      <th>label</th>\n",
              "    </tr>\n",
              "  </thead>\n",
              "  <tbody>\n",
              "    <tr>\n",
              "      <th>0</th>\n",
              "      <td>COVID-19</td>\n",
              "      <td>S-Disease</td>\n",
              "    </tr>\n",
              "    <tr>\n",
              "      <th>1</th>\n",
              "      <td>COVID-19</td>\n",
              "      <td>S-Disease</td>\n",
              "    </tr>\n",
              "    <tr>\n",
              "      <th>2</th>\n",
              "      <td>COVID-19</td>\n",
              "      <td>S-Disease</td>\n",
              "    </tr>\n",
              "    <tr>\n",
              "      <th>3</th>\n",
              "      <td>malaria</td>\n",
              "      <td>S-Disease</td>\n",
              "    </tr>\n",
              "    <tr>\n",
              "      <th>4</th>\n",
              "      <td>HIV</td>\n",
              "      <td>S-Disease</td>\n",
              "    </tr>\n",
              "    <tr>\n",
              "      <th>...</th>\n",
              "      <td>...</td>\n",
              "      <td>...</td>\n",
              "    </tr>\n",
              "    <tr>\n",
              "      <th>113149</th>\n",
              "      <td>do</td>\n",
              "      <td>O</td>\n",
              "    </tr>\n",
              "    <tr>\n",
              "      <th>113150</th>\n",
              "      <td>Estado</td>\n",
              "      <td>O</td>\n",
              "    </tr>\n",
              "    <tr>\n",
              "      <th>113151</th>\n",
              "      <td>do</td>\n",
              "      <td>O</td>\n",
              "    </tr>\n",
              "    <tr>\n",
              "      <th>113152</th>\n",
              "      <td>Amazonas</td>\n",
              "      <td>O</td>\n",
              "    </tr>\n",
              "    <tr>\n",
              "      <th>113153</th>\n",
              "      <td>FAPEAM</td>\n",
              "      <td>O</td>\n",
              "    </tr>\n",
              "  </tbody>\n",
              "</table>\n",
              "<p>113154 rows × 2 columns</p>\n",
              "</div>\n",
              "      <button class=\"colab-df-convert\" onclick=\"convertToInteractive('df-7703a827-6238-4e61-9500-8847e75af9cb')\"\n",
              "              title=\"Convert this dataframe to an interactive table.\"\n",
              "              style=\"display:none;\">\n",
              "        \n",
              "  <svg xmlns=\"http://www.w3.org/2000/svg\" height=\"24px\"viewBox=\"0 0 24 24\"\n",
              "       width=\"24px\">\n",
              "    <path d=\"M0 0h24v24H0V0z\" fill=\"none\"/>\n",
              "    <path d=\"M18.56 5.44l.94 2.06.94-2.06 2.06-.94-2.06-.94-.94-2.06-.94 2.06-2.06.94zm-11 1L8.5 8.5l.94-2.06 2.06-.94-2.06-.94L8.5 2.5l-.94 2.06-2.06.94zm10 10l.94 2.06.94-2.06 2.06-.94-2.06-.94-.94-2.06-.94 2.06-2.06.94z\"/><path d=\"M17.41 7.96l-1.37-1.37c-.4-.4-.92-.59-1.43-.59-.52 0-1.04.2-1.43.59L10.3 9.45l-7.72 7.72c-.78.78-.78 2.05 0 2.83L4 21.41c.39.39.9.59 1.41.59.51 0 1.02-.2 1.41-.59l7.78-7.78 2.81-2.81c.8-.78.8-2.07 0-2.86zM5.41 20L4 18.59l7.72-7.72 1.47 1.35L5.41 20z\"/>\n",
              "  </svg>\n",
              "      </button>\n",
              "      \n",
              "  <style>\n",
              "    .colab-df-container {\n",
              "      display:flex;\n",
              "      flex-wrap:wrap;\n",
              "      gap: 12px;\n",
              "    }\n",
              "\n",
              "    .colab-df-convert {\n",
              "      background-color: #E8F0FE;\n",
              "      border: none;\n",
              "      border-radius: 50%;\n",
              "      cursor: pointer;\n",
              "      display: none;\n",
              "      fill: #1967D2;\n",
              "      height: 32px;\n",
              "      padding: 0 0 0 0;\n",
              "      width: 32px;\n",
              "    }\n",
              "\n",
              "    .colab-df-convert:hover {\n",
              "      background-color: #E2EBFA;\n",
              "      box-shadow: 0px 1px 2px rgba(60, 64, 67, 0.3), 0px 1px 3px 1px rgba(60, 64, 67, 0.15);\n",
              "      fill: #174EA6;\n",
              "    }\n",
              "\n",
              "    [theme=dark] .colab-df-convert {\n",
              "      background-color: #3B4455;\n",
              "      fill: #D2E3FC;\n",
              "    }\n",
              "\n",
              "    [theme=dark] .colab-df-convert:hover {\n",
              "      background-color: #434B5C;\n",
              "      box-shadow: 0px 1px 3px 1px rgba(0, 0, 0, 0.15);\n",
              "      filter: drop-shadow(0px 1px 2px rgba(0, 0, 0, 0.3));\n",
              "      fill: #FFFFFF;\n",
              "    }\n",
              "  </style>\n",
              "\n",
              "      <script>\n",
              "        const buttonEl =\n",
              "          document.querySelector('#df-7703a827-6238-4e61-9500-8847e75af9cb button.colab-df-convert');\n",
              "        buttonEl.style.display =\n",
              "          google.colab.kernel.accessAllowed ? 'block' : 'none';\n",
              "\n",
              "        async function convertToInteractive(key) {\n",
              "          const element = document.querySelector('#df-7703a827-6238-4e61-9500-8847e75af9cb');\n",
              "          const dataTable =\n",
              "            await google.colab.kernel.invokeFunction('convertToInteractive',\n",
              "                                                     [key], {});\n",
              "          if (!dataTable) return;\n",
              "\n",
              "          const docLinkHtml = 'Like what you see? Visit the ' +\n",
              "            '<a target=\"_blank\" href=https://colab.research.google.com/notebooks/data_table.ipynb>data table notebook</a>'\n",
              "            + ' to learn more about interactive tables.';\n",
              "          element.innerHTML = '';\n",
              "          dataTable['output_type'] = 'display_data';\n",
              "          await google.colab.output.renderOutput(dataTable, element);\n",
              "          const docLink = document.createElement('div');\n",
              "          docLink.innerHTML = docLinkHtml;\n",
              "          element.appendChild(docLink);\n",
              "        }\n",
              "      </script>\n",
              "    </div>\n",
              "  </div>\n",
              "  "
            ]
          },
          "metadata": {},
          "execution_count": 3
        }
      ]
    },
    {
      "cell_type": "code",
      "source": [
        "data.isnull().sum()"
      ],
      "metadata": {
        "colab": {
          "base_uri": "https://localhost:8080/"
        },
        "id": "Jb7-Z6dOk70U",
        "outputId": "91496813-563a-40be-c696-b9b277e97ad4"
      },
      "execution_count": 4,
      "outputs": [
        {
          "output_type": "execute_result",
          "data": {
            "text/plain": [
              "text     1\n",
              "label    0\n",
              "dtype: int64"
            ]
          },
          "metadata": {},
          "execution_count": 4
        }
      ]
    },
    {
      "cell_type": "code",
      "source": [
        "data.dropna(inplace=True)"
      ],
      "metadata": {
        "id": "rl8BwXHZlCb5"
      },
      "execution_count": 5,
      "outputs": []
    },
    {
      "cell_type": "code",
      "source": [
        "data.isnull().sum()"
      ],
      "metadata": {
        "colab": {
          "base_uri": "https://localhost:8080/"
        },
        "id": "U8XOjOG5lE9D",
        "outputId": "5baa2f67-ed9d-4798-9e27-94a4f4a799d5"
      },
      "execution_count": 7,
      "outputs": [
        {
          "output_type": "execute_result",
          "data": {
            "text/plain": [
              "text     0\n",
              "label    0\n",
              "dtype: int64"
            ]
          },
          "metadata": {},
          "execution_count": 7
        }
      ]
    },
    {
      "cell_type": "code",
      "source": [
        "#data.duplicated().sum()\n",
        "#data.drop_duplicates(inplace=True)"
      ],
      "metadata": {
        "id": "vQntn6phvbwv"
      },
      "execution_count": null,
      "outputs": []
    },
    {
      "cell_type": "code",
      "source": [
        "data"
      ],
      "metadata": {
        "colab": {
          "base_uri": "https://localhost:8080/",
          "height": 423
        },
        "id": "HDxDZMkWvsYv",
        "outputId": "c1e0a497-7374-4bef-af7a-0747415a7187"
      },
      "execution_count": null,
      "outputs": [
        {
          "output_type": "execute_result",
          "data": {
            "text/plain": [
              "            text      label\n",
              "0       COVID-19  S-Disease\n",
              "1       COVID-19  S-Disease\n",
              "2       COVID-19  S-Disease\n",
              "3        malaria  S-Disease\n",
              "4            HIV  S-Disease\n",
              "...          ...        ...\n",
              "113149        do          O\n",
              "113150    Estado          O\n",
              "113151        do          O\n",
              "113152  Amazonas          O\n",
              "113153    FAPEAM          O\n",
              "\n",
              "[113153 rows x 2 columns]"
            ],
            "text/html": [
              "\n",
              "  <div id=\"df-23e0105f-07ca-493f-9120-41e8000ce405\">\n",
              "    <div class=\"colab-df-container\">\n",
              "      <div>\n",
              "<style scoped>\n",
              "    .dataframe tbody tr th:only-of-type {\n",
              "        vertical-align: middle;\n",
              "    }\n",
              "\n",
              "    .dataframe tbody tr th {\n",
              "        vertical-align: top;\n",
              "    }\n",
              "\n",
              "    .dataframe thead th {\n",
              "        text-align: right;\n",
              "    }\n",
              "</style>\n",
              "<table border=\"1\" class=\"dataframe\">\n",
              "  <thead>\n",
              "    <tr style=\"text-align: right;\">\n",
              "      <th></th>\n",
              "      <th>text</th>\n",
              "      <th>label</th>\n",
              "    </tr>\n",
              "  </thead>\n",
              "  <tbody>\n",
              "    <tr>\n",
              "      <th>0</th>\n",
              "      <td>COVID-19</td>\n",
              "      <td>S-Disease</td>\n",
              "    </tr>\n",
              "    <tr>\n",
              "      <th>1</th>\n",
              "      <td>COVID-19</td>\n",
              "      <td>S-Disease</td>\n",
              "    </tr>\n",
              "    <tr>\n",
              "      <th>2</th>\n",
              "      <td>COVID-19</td>\n",
              "      <td>S-Disease</td>\n",
              "    </tr>\n",
              "    <tr>\n",
              "      <th>3</th>\n",
              "      <td>malaria</td>\n",
              "      <td>S-Disease</td>\n",
              "    </tr>\n",
              "    <tr>\n",
              "      <th>4</th>\n",
              "      <td>HIV</td>\n",
              "      <td>S-Disease</td>\n",
              "    </tr>\n",
              "    <tr>\n",
              "      <th>...</th>\n",
              "      <td>...</td>\n",
              "      <td>...</td>\n",
              "    </tr>\n",
              "    <tr>\n",
              "      <th>113149</th>\n",
              "      <td>do</td>\n",
              "      <td>O</td>\n",
              "    </tr>\n",
              "    <tr>\n",
              "      <th>113150</th>\n",
              "      <td>Estado</td>\n",
              "      <td>O</td>\n",
              "    </tr>\n",
              "    <tr>\n",
              "      <th>113151</th>\n",
              "      <td>do</td>\n",
              "      <td>O</td>\n",
              "    </tr>\n",
              "    <tr>\n",
              "      <th>113152</th>\n",
              "      <td>Amazonas</td>\n",
              "      <td>O</td>\n",
              "    </tr>\n",
              "    <tr>\n",
              "      <th>113153</th>\n",
              "      <td>FAPEAM</td>\n",
              "      <td>O</td>\n",
              "    </tr>\n",
              "  </tbody>\n",
              "</table>\n",
              "<p>113153 rows × 2 columns</p>\n",
              "</div>\n",
              "      <button class=\"colab-df-convert\" onclick=\"convertToInteractive('df-23e0105f-07ca-493f-9120-41e8000ce405')\"\n",
              "              title=\"Convert this dataframe to an interactive table.\"\n",
              "              style=\"display:none;\">\n",
              "        \n",
              "  <svg xmlns=\"http://www.w3.org/2000/svg\" height=\"24px\"viewBox=\"0 0 24 24\"\n",
              "       width=\"24px\">\n",
              "    <path d=\"M0 0h24v24H0V0z\" fill=\"none\"/>\n",
              "    <path d=\"M18.56 5.44l.94 2.06.94-2.06 2.06-.94-2.06-.94-.94-2.06-.94 2.06-2.06.94zm-11 1L8.5 8.5l.94-2.06 2.06-.94-2.06-.94L8.5 2.5l-.94 2.06-2.06.94zm10 10l.94 2.06.94-2.06 2.06-.94-2.06-.94-.94-2.06-.94 2.06-2.06.94z\"/><path d=\"M17.41 7.96l-1.37-1.37c-.4-.4-.92-.59-1.43-.59-.52 0-1.04.2-1.43.59L10.3 9.45l-7.72 7.72c-.78.78-.78 2.05 0 2.83L4 21.41c.39.39.9.59 1.41.59.51 0 1.02-.2 1.41-.59l7.78-7.78 2.81-2.81c.8-.78.8-2.07 0-2.86zM5.41 20L4 18.59l7.72-7.72 1.47 1.35L5.41 20z\"/>\n",
              "  </svg>\n",
              "      </button>\n",
              "      \n",
              "  <style>\n",
              "    .colab-df-container {\n",
              "      display:flex;\n",
              "      flex-wrap:wrap;\n",
              "      gap: 12px;\n",
              "    }\n",
              "\n",
              "    .colab-df-convert {\n",
              "      background-color: #E8F0FE;\n",
              "      border: none;\n",
              "      border-radius: 50%;\n",
              "      cursor: pointer;\n",
              "      display: none;\n",
              "      fill: #1967D2;\n",
              "      height: 32px;\n",
              "      padding: 0 0 0 0;\n",
              "      width: 32px;\n",
              "    }\n",
              "\n",
              "    .colab-df-convert:hover {\n",
              "      background-color: #E2EBFA;\n",
              "      box-shadow: 0px 1px 2px rgba(60, 64, 67, 0.3), 0px 1px 3px 1px rgba(60, 64, 67, 0.15);\n",
              "      fill: #174EA6;\n",
              "    }\n",
              "\n",
              "    [theme=dark] .colab-df-convert {\n",
              "      background-color: #3B4455;\n",
              "      fill: #D2E3FC;\n",
              "    }\n",
              "\n",
              "    [theme=dark] .colab-df-convert:hover {\n",
              "      background-color: #434B5C;\n",
              "      box-shadow: 0px 1px 3px 1px rgba(0, 0, 0, 0.15);\n",
              "      filter: drop-shadow(0px 1px 2px rgba(0, 0, 0, 0.3));\n",
              "      fill: #FFFFFF;\n",
              "    }\n",
              "  </style>\n",
              "\n",
              "      <script>\n",
              "        const buttonEl =\n",
              "          document.querySelector('#df-23e0105f-07ca-493f-9120-41e8000ce405 button.colab-df-convert');\n",
              "        buttonEl.style.display =\n",
              "          google.colab.kernel.accessAllowed ? 'block' : 'none';\n",
              "\n",
              "        async function convertToInteractive(key) {\n",
              "          const element = document.querySelector('#df-23e0105f-07ca-493f-9120-41e8000ce405');\n",
              "          const dataTable =\n",
              "            await google.colab.kernel.invokeFunction('convertToInteractive',\n",
              "                                                     [key], {});\n",
              "          if (!dataTable) return;\n",
              "\n",
              "          const docLinkHtml = 'Like what you see? Visit the ' +\n",
              "            '<a target=\"_blank\" href=https://colab.research.google.com/notebooks/data_table.ipynb>data table notebook</a>'\n",
              "            + ' to learn more about interactive tables.';\n",
              "          element.innerHTML = '';\n",
              "          dataTable['output_type'] = 'display_data';\n",
              "          await google.colab.output.renderOutput(dataTable, element);\n",
              "          const docLink = document.createElement('div');\n",
              "          docLink.innerHTML = docLinkHtml;\n",
              "          element.appendChild(docLink);\n",
              "        }\n",
              "      </script>\n",
              "    </div>\n",
              "  </div>\n",
              "  "
            ]
          },
          "metadata": {},
          "execution_count": 9
        }
      ]
    },
    {
      "cell_type": "code",
      "source": [
        "print(data['label'].value_counts())"
      ],
      "metadata": {
        "colab": {
          "base_uri": "https://localhost:8080/"
        },
        "id": "dO_eUej8yvCQ",
        "outputId": "8acd557e-c86c-497d-ca3e-f2b70d892791"
      },
      "execution_count": null,
      "outputs": [
        {
          "output_type": "stream",
          "name": "stdout",
          "text": [
            "O                          105303\n",
            "S-Disease                    1182\n",
            "B-Disease                    1016\n",
            "B-Organism                    961\n",
            "I-Organism                    536\n",
            "S-Chemical_Substance          496\n",
            "S-Protien                     463\n",
            "S-Organism                    402\n",
            "B-Chemical_Substance          351\n",
            "B-Protien                     302\n",
            "I-Disease                     297\n",
            "B-Medication                  229\n",
            "S-Medication                  171\n",
            "S-Anatomical_Substances       151\n",
            "I-Protien                     143\n",
            "B-Anatomical_Substances       143\n",
            "I-Chemical_Substance          137\n",
            "I-Anatomical_Substances       122\n",
            "I-Medication                  104\n",
            "S-Gene                        101\n",
            "E-Disease                      83\n",
            "E-Protien                      80\n",
            "E-Organism                     75\n",
            "S_Anatomical_Substances        72\n",
            "B-Gene                         60\n",
            "E-Medication                   46\n",
            "E-Anatomical_Substances        42\n",
            "E-Chemical_Substance           41\n",
            "I-Gene                         27\n",
            "E-Gene                         17\n",
            "Name: label, dtype: int64\n"
          ]
        }
      ]
    },
    {
      "cell_type": "code",
      "source": [
        "X= data['text']\n",
        "y =data['label']"
      ],
      "metadata": {
        "id": "qpMk2iY_qILd"
      },
      "execution_count": 8,
      "outputs": []
    },
    {
      "cell_type": "code",
      "source": [
        "X"
      ],
      "metadata": {
        "colab": {
          "base_uri": "https://localhost:8080/"
        },
        "id": "K4WKD-RHzf6x",
        "outputId": "c92e2f11-eda5-46ae-8452-62249a055083"
      },
      "execution_count": null,
      "outputs": [
        {
          "output_type": "execute_result",
          "data": {
            "text/plain": [
              "0         COVID-19\n",
              "1         COVID-19\n",
              "2         COVID-19\n",
              "3          malaria\n",
              "4              HIV\n",
              "            ...   \n",
              "113149          do\n",
              "113150      Estado\n",
              "113151          do\n",
              "113152    Amazonas\n",
              "113153      FAPEAM\n",
              "Name: text, Length: 113153, dtype: object"
            ]
          },
          "metadata": {},
          "execution_count": 12
        }
      ]
    },
    {
      "cell_type": "code",
      "source": [
        "y"
      ],
      "metadata": {
        "colab": {
          "base_uri": "https://localhost:8080/"
        },
        "id": "hr1GjGeGzjFj",
        "outputId": "ca5bb626-6db2-4000-b994-64c119d41d69"
      },
      "execution_count": null,
      "outputs": [
        {
          "output_type": "execute_result",
          "data": {
            "text/plain": [
              "0         S-Disease\n",
              "1         S-Disease\n",
              "2         S-Disease\n",
              "3         S-Disease\n",
              "4         S-Disease\n",
              "            ...    \n",
              "113149            O\n",
              "113150            O\n",
              "113151            O\n",
              "113152            O\n",
              "113153            O\n",
              "Name: label, Length: 113153, dtype: object"
            ]
          },
          "metadata": {},
          "execution_count": 13
        }
      ]
    },
    {
      "cell_type": "code",
      "source": [
        "print(len(set(X)))"
      ],
      "metadata": {
        "colab": {
          "base_uri": "https://localhost:8080/"
        },
        "id": "2GyfxmVIqztb",
        "outputId": "00c73811-8bdd-4e18-b875-c1aa1b5f50a1"
      },
      "execution_count": null,
      "outputs": [
        {
          "output_type": "stream",
          "name": "stdout",
          "text": [
            "14376\n"
          ]
        }
      ]
    },
    {
      "cell_type": "code",
      "source": [
        "print(len(set(y)))"
      ],
      "metadata": {
        "colab": {
          "base_uri": "https://localhost:8080/"
        },
        "id": "KtnTIwS8rKlg",
        "outputId": "b024dd7d-a006-45ce-8e9e-580628bcb88e"
      },
      "execution_count": null,
      "outputs": [
        {
          "output_type": "stream",
          "name": "stdout",
          "text": [
            "30\n"
          ]
        }
      ]
    },
    {
      "cell_type": "code",
      "source": [
        "from collections import Counter\n",
        "print(Counter(y))"
      ],
      "metadata": {
        "colab": {
          "base_uri": "https://localhost:8080/"
        },
        "id": "RBxnlJwpwqxO",
        "outputId": "a249f2a4-d419-4fc1-b622-4667722f57b9"
      },
      "execution_count": null,
      "outputs": [
        {
          "output_type": "stream",
          "name": "stdout",
          "text": [
            "Counter({'O': 105303, 'S-Disease': 1182, 'B-Disease': 1016, 'B-Organism': 961, 'I-Organism': 536, 'S-Chemical_Substance': 496, 'S-Protien': 463, 'S-Organism': 402, 'B-Chemical_Substance': 351, 'B-Protien': 302, 'I-Disease': 297, 'B-Medication': 229, 'S-Medication': 171, 'S-Anatomical_Substances': 151, 'I-Protien': 143, 'B-Anatomical_Substances': 143, 'I-Chemical_Substance': 137, 'I-Anatomical_Substances': 122, 'I-Medication': 104, 'S-Gene': 101, 'E-Disease': 83, 'E-Protien': 80, 'E-Organism': 75, 'S_Anatomical_Substances': 72, 'B-Gene': 60, 'E-Medication': 46, 'E-Anatomical_Substances': 42, 'E-Chemical_Substance': 41, 'I-Gene': 27, 'E-Gene': 17})\n"
          ]
        }
      ]
    },
    {
      "cell_type": "code",
      "source": [
        "#sns.countplot(data['label'])"
      ],
      "metadata": {
        "id": "iLEnK4-6Dp4X"
      },
      "execution_count": null,
      "outputs": []
    },
    {
      "cell_type": "code",
      "source": [
        "#minority_classes = ['B-Organism', 'B-Disease', 'S-Chemical_Substance', 'S-Protien', 'S-Disease', 'B-Chemical_Substance', 'B-Protien', 'I-Organism', 'S-Organism', 'I-Disease', 'B-Medication', 'I-Protien', 'I-Chemical_Substance', 'S-Medication', 'B-Anatomical_Substances', 'I-Anatomical_Substances', 'I-Medication', 'S-Gene', 'E-Protien', 'S-Anatomical_Substances', 'E-Organism', 'S_Anatomical_Substances', 'E-Disease', 'B-Gene', 'E-Chemical_Substance', 'E-Medication', 'E-Anatomical_Substances', 'I-Gene', 'E-Gene']\n",
        "#df_minority = data[data['label'].isin(minority_classes)]\n",
        "#df_majority = data[~data['label'].isin(minority_classes)]\n",
        "#from sklearn.utils import resample\n",
        "#randomly undersample the majority class to match the size of the minority class\n",
        "#majority_class_size = len(df_minority)\n",
        "#df_majority_downsampled = resample(df_majority,\n",
        "                                   #replace=False,      # sample without replacement\n",
        "                                   #n_samples=majority_class_size,  # match minority class size\n",
        "                                   #random_state=123)   # set random state for reproducibility\n",
        "#concatenate the minority class dataframe with the downsampled majority class dataframe\n",
        "#df_downsampled = pd.concat([df_majority_downsampled, df_minority])"
      ],
      "metadata": {
        "id": "XJXYgo9pdnis"
      },
      "execution_count": null,
      "outputs": []
    },
    {
      "cell_type": "code",
      "source": [
        "#print(Counter(df_downsampled['label']))"
      ],
      "metadata": {
        "id": "Wkk7oNfuJ8I5"
      },
      "execution_count": null,
      "outputs": []
    },
    {
      "cell_type": "code",
      "source": [
        "#import imblearn\n",
        "#from imblearn.under_sampling import RandomUnderSampler\n",
        "#rus = RandomUnderSampler(random_state=42)"
      ],
      "metadata": {
        "id": "SIsd7dqP0_gN"
      },
      "execution_count": null,
      "outputs": []
    },
    {
      "cell_type": "code",
      "source": [
        "#X_rus, y_rus = rus.fit_resample(X, y)"
      ],
      "metadata": {
        "id": "IGYFiHHIxeXM"
      },
      "execution_count": null,
      "outputs": []
    },
    {
      "cell_type": "code",
      "source": [
        "#X= df_downsampled['text']\n",
        "#y =df_downsampled['label']"
      ],
      "metadata": {
        "id": "-_vQKNaQKsn-"
      },
      "execution_count": null,
      "outputs": []
    },
    {
      "cell_type": "code",
      "source": [
        "# Split data into train and test sets\n",
        "X_train, X_test, y_train, y_test = train_test_split(X,y, test_size=0.2, random_state=0)"
      ],
      "metadata": {
        "id": "DGNovJCkinEq"
      },
      "execution_count": null,
      "outputs": []
    },
    {
      "cell_type": "code",
      "source": [
        "from sklearn.feature_extraction.text import TfidfVectorizer\n",
        "\n",
        "# Create TfidfVectorizer to convert texts to vectors\n",
        "vectorizer = TfidfVectorizer()"
      ],
      "metadata": {
        "id": "3YMbayVijpIX"
      },
      "execution_count": null,
      "outputs": []
    },
    {
      "cell_type": "code",
      "source": [
        "# Convert train and test texts to vectors\n",
        "X_train_vectors = vectorizer.fit_transform(X_train)\n",
        "X_test_vectors = vectorizer.transform(X_test)"
      ],
      "metadata": {
        "id": "7z9kUAzeiycU"
      },
      "execution_count": null,
      "outputs": []
    },
    {
      "cell_type": "code",
      "source": [
        "# Encoding the classes in numerical values\n",
        "from sklearn.preprocessing import LabelEncoder\n",
        "encoder = LabelEncoder()\n",
        "y_train = encoder.fit_transform(y_train)\n",
        "y_test = encoder.fit_transform(y_test)"
      ],
      "metadata": {
        "id": "9sGYjHHBnUiF"
      },
      "execution_count": null,
      "outputs": []
    },
    {
      "cell_type": "code",
      "source": [
        "unique_elements = set(y_train)\n",
        "num_unique_elements = len(unique_elements)"
      ],
      "metadata": {
        "id": "Mq5K6pGpoX0A"
      },
      "execution_count": null,
      "outputs": []
    },
    {
      "cell_type": "code",
      "source": [
        "num_unique_elements"
      ],
      "metadata": {
        "colab": {
          "base_uri": "https://localhost:8080/"
        },
        "id": "UvZ_zbEsocql",
        "outputId": "23d092e0-4f08-47b8-f796-da712115dac2"
      },
      "execution_count": null,
      "outputs": [
        {
          "output_type": "execute_result",
          "data": {
            "text/plain": [
              "30"
            ]
          },
          "metadata": {},
          "execution_count": 23
        }
      ]
    },
    {
      "cell_type": "code",
      "source": [
        "# Create SVM classifier\n",
        "clf = SVC(kernel='rbf', C=1, decision_function_shape='ovr')"
      ],
      "metadata": {
        "id": "KLngpO6PkJhS"
      },
      "execution_count": null,
      "outputs": []
    },
    {
      "cell_type": "code",
      "source": [
        "# Train the classifier on the training data\n",
        "clf.fit(X_train_vectors, y_train)"
      ],
      "metadata": {
        "id": "C3CP4I7pllFI",
        "colab": {
          "base_uri": "https://localhost:8080/",
          "height": 74
        },
        "outputId": "dc8804ae-3baa-42d0-cf11-9809b44aeae6"
      },
      "execution_count": null,
      "outputs": [
        {
          "output_type": "execute_result",
          "data": {
            "text/plain": [
              "SVC(C=1)"
            ],
            "text/html": [
              "<style>#sk-container-id-1 {color: black;background-color: white;}#sk-container-id-1 pre{padding: 0;}#sk-container-id-1 div.sk-toggleable {background-color: white;}#sk-container-id-1 label.sk-toggleable__label {cursor: pointer;display: block;width: 100%;margin-bottom: 0;padding: 0.3em;box-sizing: border-box;text-align: center;}#sk-container-id-1 label.sk-toggleable__label-arrow:before {content: \"▸\";float: left;margin-right: 0.25em;color: #696969;}#sk-container-id-1 label.sk-toggleable__label-arrow:hover:before {color: black;}#sk-container-id-1 div.sk-estimator:hover label.sk-toggleable__label-arrow:before {color: black;}#sk-container-id-1 div.sk-toggleable__content {max-height: 0;max-width: 0;overflow: hidden;text-align: left;background-color: #f0f8ff;}#sk-container-id-1 div.sk-toggleable__content pre {margin: 0.2em;color: black;border-radius: 0.25em;background-color: #f0f8ff;}#sk-container-id-1 input.sk-toggleable__control:checked~div.sk-toggleable__content {max-height: 200px;max-width: 100%;overflow: auto;}#sk-container-id-1 input.sk-toggleable__control:checked~label.sk-toggleable__label-arrow:before {content: \"▾\";}#sk-container-id-1 div.sk-estimator input.sk-toggleable__control:checked~label.sk-toggleable__label {background-color: #d4ebff;}#sk-container-id-1 div.sk-label input.sk-toggleable__control:checked~label.sk-toggleable__label {background-color: #d4ebff;}#sk-container-id-1 input.sk-hidden--visually {border: 0;clip: rect(1px 1px 1px 1px);clip: rect(1px, 1px, 1px, 1px);height: 1px;margin: -1px;overflow: hidden;padding: 0;position: absolute;width: 1px;}#sk-container-id-1 div.sk-estimator {font-family: monospace;background-color: #f0f8ff;border: 1px dotted black;border-radius: 0.25em;box-sizing: border-box;margin-bottom: 0.5em;}#sk-container-id-1 div.sk-estimator:hover {background-color: #d4ebff;}#sk-container-id-1 div.sk-parallel-item::after {content: \"\";width: 100%;border-bottom: 1px solid gray;flex-grow: 1;}#sk-container-id-1 div.sk-label:hover label.sk-toggleable__label {background-color: #d4ebff;}#sk-container-id-1 div.sk-serial::before {content: \"\";position: absolute;border-left: 1px solid gray;box-sizing: border-box;top: 0;bottom: 0;left: 50%;z-index: 0;}#sk-container-id-1 div.sk-serial {display: flex;flex-direction: column;align-items: center;background-color: white;padding-right: 0.2em;padding-left: 0.2em;position: relative;}#sk-container-id-1 div.sk-item {position: relative;z-index: 1;}#sk-container-id-1 div.sk-parallel {display: flex;align-items: stretch;justify-content: center;background-color: white;position: relative;}#sk-container-id-1 div.sk-item::before, #sk-container-id-1 div.sk-parallel-item::before {content: \"\";position: absolute;border-left: 1px solid gray;box-sizing: border-box;top: 0;bottom: 0;left: 50%;z-index: -1;}#sk-container-id-1 div.sk-parallel-item {display: flex;flex-direction: column;z-index: 1;position: relative;background-color: white;}#sk-container-id-1 div.sk-parallel-item:first-child::after {align-self: flex-end;width: 50%;}#sk-container-id-1 div.sk-parallel-item:last-child::after {align-self: flex-start;width: 50%;}#sk-container-id-1 div.sk-parallel-item:only-child::after {width: 0;}#sk-container-id-1 div.sk-dashed-wrapped {border: 1px dashed gray;margin: 0 0.4em 0.5em 0.4em;box-sizing: border-box;padding-bottom: 0.4em;background-color: white;}#sk-container-id-1 div.sk-label label {font-family: monospace;font-weight: bold;display: inline-block;line-height: 1.2em;}#sk-container-id-1 div.sk-label-container {text-align: center;}#sk-container-id-1 div.sk-container {/* jupyter's `normalize.less` sets `[hidden] { display: none; }` but bootstrap.min.css set `[hidden] { display: none !important; }` so we also need the `!important` here to be able to override the default hidden behavior on the sphinx rendered scikit-learn.org. See: https://github.com/scikit-learn/scikit-learn/issues/21755 */display: inline-block !important;position: relative;}#sk-container-id-1 div.sk-text-repr-fallback {display: none;}</style><div id=\"sk-container-id-1\" class=\"sk-top-container\"><div class=\"sk-text-repr-fallback\"><pre>SVC(C=1)</pre><b>In a Jupyter environment, please rerun this cell to show the HTML representation or trust the notebook. <br />On GitHub, the HTML representation is unable to render, please try loading this page with nbviewer.org.</b></div><div class=\"sk-container\" hidden><div class=\"sk-item\"><div class=\"sk-estimator sk-toggleable\"><input class=\"sk-toggleable__control sk-hidden--visually\" id=\"sk-estimator-id-1\" type=\"checkbox\" checked><label for=\"sk-estimator-id-1\" class=\"sk-toggleable__label sk-toggleable__label-arrow\">SVC</label><div class=\"sk-toggleable__content\"><pre>SVC(C=1)</pre></div></div></div></div></div>"
            ]
          },
          "metadata": {},
          "execution_count": 25
        }
      ]
    },
    {
      "cell_type": "code",
      "source": [
        "y_pred = clf.predict(X_test_vectors)"
      ],
      "metadata": {
        "id": "22qkUC7xmAG1"
      },
      "execution_count": null,
      "outputs": []
    },
    {
      "cell_type": "code",
      "source": [
        "# Calculate accuracy\n",
        "accuracy = accuracy_score(y_test, y_pred)\n",
        "\n",
        "print(\"Accuracy:\", accuracy)"
      ],
      "metadata": {
        "colab": {
          "base_uri": "https://localhost:8080/"
        },
        "id": "GHM3Ed7zmJAM",
        "outputId": "c20697bc-d5b6-494b-9b09-cce83efe1f1b"
      },
      "execution_count": null,
      "outputs": [
        {
          "output_type": "stream",
          "name": "stdout",
          "text": [
            "Accuracy: 0.9474614466881711\n"
          ]
        }
      ]
    },
    {
      "cell_type": "code",
      "source": [
        "#testing on new text\n",
        "new=\"\"\"Malaria is an acute febrile illness caused by Plasmodium parasites, which are spread to people through the bites of infected female Anopheles mosquitoes. It is preventable and curable.\"\"\"\n",
        "n=new.split()\n",
        "for i in n:\n",
        "    vector=vectorizer.transform([i])\n",
        "    pred=clf.predict(vector)\n",
        "    print(i,encoder.inverse_transform(pred))"
      ],
      "metadata": {
        "colab": {
          "base_uri": "https://localhost:8080/"
        },
        "id": "1UyrYJRNjsSf",
        "outputId": "6b577552-bd53-4590-e567-c0f71f6e0494"
      },
      "execution_count": null,
      "outputs": [
        {
          "output_type": "stream",
          "name": "stdout",
          "text": [
            "Malaria ['S-Disease']\n",
            "is ['O']\n",
            "an ['O']\n",
            "acute ['O']\n",
            "febrile ['O']\n",
            "illness ['O']\n",
            "caused ['O']\n",
            "by ['O']\n",
            "Plasmodium ['B-Organism']\n",
            "parasites, ['O']\n",
            "which ['O']\n",
            "are ['O']\n",
            "spread ['O']\n",
            "to ['O']\n",
            "people ['O']\n",
            "through ['O']\n",
            "the ['O']\n",
            "bites ['O']\n",
            "of ['O']\n",
            "infected ['O']\n",
            "female ['O']\n",
            "Anopheles ['B-Organism']\n",
            "mosquitoes. ['O']\n",
            "It ['O']\n",
            "is ['O']\n",
            "preventable ['O']\n",
            "and ['O']\n",
            "curable. ['O']\n"
          ]
        }
      ]
    },
    {
      "cell_type": "markdown",
      "source": [
        "## LOGISTIC REGRESSION + TDIDF"
      ],
      "metadata": {
        "id": "IDXGZMkFn9fJ"
      }
    },
    {
      "cell_type": "code",
      "source": [
        "from sklearn.linear_model import LogisticRegression\n",
        "\n",
        "# Create logistic regression classifier\n",
        "clsf = LogisticRegression(random_state=0, max_iter=1000, multi_class='ovr')\n",
        "\n",
        "# Train the classifier on the training data\n",
        "clsf.fit(X_train_vectors, y_train)\n",
        "\n",
        "# Predict the labels of the test data\n",
        "y_pred = clsf.predict(X_test_vectors)"
      ],
      "metadata": {
        "id": "R1SdpVtAnyrL"
      },
      "execution_count": null,
      "outputs": []
    },
    {
      "cell_type": "code",
      "source": [
        "y_pred = clsf.predict(X_test_vectors)"
      ],
      "metadata": {
        "id": "q5TAW9Bnop7V"
      },
      "execution_count": null,
      "outputs": []
    },
    {
      "cell_type": "code",
      "source": [
        "# Calculate accuracy\n",
        "accuracy = accuracy_score(y_test, y_pred)\n",
        "\n",
        "print(\"Accuracy:\", accuracy)"
      ],
      "metadata": {
        "colab": {
          "base_uri": "https://localhost:8080/"
        },
        "id": "fK69F5StovzQ",
        "outputId": "29e617c0-9f17-4d99-91d9-76b0e1f23d08"
      },
      "execution_count": null,
      "outputs": [
        {
          "output_type": "stream",
          "name": "stdout",
          "text": [
            "Accuracy: 0.9386681984887986\n"
          ]
        }
      ]
    },
    {
      "cell_type": "code",
      "source": [
        "new=\"\"\"Malaria is an acute febrile illness caused by Plasmodium parasites, which are spread to people through the bites of infected female Anopheles mosquitoes. It is preventable and curable.\"\"\"\n",
        "n=new.split()\n",
        "for i in n:\n",
        "    vector=vectorizer.transform([i])\n",
        "    pred=clsf.predict(vector)\n",
        "    print(i,encoder.inverse_transform(pred))"
      ],
      "metadata": {
        "colab": {
          "base_uri": "https://localhost:8080/"
        },
        "id": "cCvo5jiGnak3",
        "outputId": "350898e9-ac85-4e39-db45-4735707c54f7"
      },
      "execution_count": null,
      "outputs": [
        {
          "output_type": "stream",
          "name": "stdout",
          "text": [
            "Malaria ['S-Disease']\n",
            "is ['O']\n",
            "an ['O']\n",
            "acute ['O']\n",
            "febrile ['O']\n",
            "illness ['O']\n",
            "caused ['O']\n",
            "by ['O']\n",
            "Plasmodium ['B-Organism']\n",
            "parasites, ['O']\n",
            "which ['O']\n",
            "are ['O']\n",
            "spread ['O']\n",
            "to ['O']\n",
            "people ['O']\n",
            "through ['O']\n",
            "the ['O']\n",
            "bites ['O']\n",
            "of ['O']\n",
            "infected ['O']\n",
            "female ['O']\n",
            "Anopheles ['B-Organism']\n",
            "mosquitoes. ['O']\n",
            "It ['O']\n",
            "is ['O']\n",
            "preventable ['O']\n",
            "and ['O']\n",
            "curable. ['O']\n"
          ]
        }
      ]
    },
    {
      "cell_type": "markdown",
      "source": [
        "## RANDOM FOREST + TDIDF"
      ],
      "metadata": {
        "id": "Vs1GwgVCpMNd"
      }
    },
    {
      "cell_type": "code",
      "source": [
        "from sklearn.ensemble import RandomForestClassifier\n",
        "\n",
        "# Create Random Forest classifier\n",
        "cl = RandomForestClassifier(n_estimators=100, random_state=0)\n",
        "\n",
        "# Train the classifier on the training data\n",
        "cl.fit(X_train_vectors, y_train)\n",
        "\n",
        "# Predict the labels of the test data\n",
        "y_pred = cl.predict(X_test_vectors)"
      ],
      "metadata": {
        "id": "MWVya_nUpOkZ"
      },
      "execution_count": null,
      "outputs": []
    },
    {
      "cell_type": "code",
      "source": [
        "# Calculate accuracy\n",
        "accuracy = accuracy_score(y_test, y_pred)\n",
        "\n",
        "print(\"Accuracy:\", accuracy)"
      ],
      "metadata": {
        "colab": {
          "base_uri": "https://localhost:8080/"
        },
        "id": "eDV1iv8kpS86",
        "outputId": "e304d814-5e68-451c-a08a-2d59a0aefbc8"
      },
      "execution_count": null,
      "outputs": [
        {
          "output_type": "stream",
          "name": "stdout",
          "text": [
            "Accuracy: 0.9500684901241659\n"
          ]
        }
      ]
    },
    {
      "cell_type": "code",
      "source": [
        "new=\"\"\"Malaria is an acute febrile illness caused by Plasmodium parasites, which are spread to people through the bites of infected female Anopheles mosquitoes. It is preventable and curable.\"\"\"\n",
        "n=new.split()\n",
        "for i in n:\n",
        "    vector=vectorizer.transform([i])\n",
        "    pred=cl.predict(vector)\n",
        "    print(i,encoder.inverse_transform(pred))"
      ],
      "metadata": {
        "colab": {
          "base_uri": "https://localhost:8080/"
        },
        "id": "ZburVtmKoP0D",
        "outputId": "b1f1ef5a-79e0-4bf2-eb21-87209353270e"
      },
      "execution_count": null,
      "outputs": [
        {
          "output_type": "stream",
          "name": "stdout",
          "text": [
            "Malaria ['S-Disease']\n",
            "is ['O']\n",
            "an ['O']\n",
            "acute ['O']\n",
            "febrile ['O']\n",
            "illness ['O']\n",
            "caused ['O']\n",
            "by ['O']\n",
            "Plasmodium ['B-Organism']\n",
            "parasites, ['O']\n",
            "which ['O']\n",
            "are ['O']\n",
            "spread ['O']\n",
            "to ['O']\n",
            "people ['O']\n",
            "through ['O']\n",
            "the ['O']\n",
            "bites ['O']\n",
            "of ['O']\n",
            "infected ['O']\n",
            "female ['O']\n",
            "Anopheles ['B-Organism']\n",
            "mosquitoes. ['O']\n",
            "It ['O']\n",
            "is ['O']\n",
            "preventable ['O']\n",
            "and ['O']\n",
            "curable. ['O']\n"
          ]
        }
      ]
    },
    {
      "cell_type": "markdown",
      "source": [
        "## NAIVE BAYES+TFIDF"
      ],
      "metadata": {
        "id": "P-rS54lsCc_q"
      }
    },
    {
      "cell_type": "code",
      "source": [
        "# Create Naive Bayes classifier\n",
        "c = MultinomialNB()\n",
        "\n",
        "# Train the classifier on the training data\n",
        "c.fit(X_train_vectors, y_train)\n",
        "\n",
        "# Predict the labels of the test data\n",
        "y_pred = c.predict(X_test_vectors)"
      ],
      "metadata": {
        "id": "oAj_sH6MCcK3"
      },
      "execution_count": null,
      "outputs": []
    },
    {
      "cell_type": "code",
      "source": [
        "# Calculate accuracy\n",
        "accuracy = accuracy_score(y_test, y_pred)\n",
        "\n",
        "print(\"Accuracy:\", accuracy)"
      ],
      "metadata": {
        "colab": {
          "base_uri": "https://localhost:8080/"
        },
        "id": "8c0VeapsCTJj",
        "outputId": "efe2a5c3-ac73-4a21-faa1-46379ff14e6c"
      },
      "execution_count": null,
      "outputs": [
        {
          "output_type": "stream",
          "name": "stdout",
          "text": [
            "Accuracy: 0.9305819451195263\n"
          ]
        }
      ]
    },
    {
      "cell_type": "code",
      "source": [
        "new=\"\"\" P. falciparum is the deadliest malaria parasite and the most prevalent on the African continent. P. vivax is the dominant malaria parasite in most countries outside of sub-Saharan Africa.\"\"\"\n",
        "n=new.split()\n",
        "for i in n:\n",
        "    vector=vectorizer.transform([i])\n",
        "    pred=cl.predict(vector)\n",
        "    print(i,encoder.inverse_transform(pred))"
      ],
      "metadata": {
        "colab": {
          "base_uri": "https://localhost:8080/"
        },
        "id": "ZwonyMEiCwnT",
        "outputId": "509cd845-dd52-4e73-c931-101fd8f51ec7"
      },
      "execution_count": null,
      "outputs": [
        {
          "output_type": "stream",
          "name": "stdout",
          "text": [
            "P. ['O']\n",
            "falciparum ['I-Organism']\n",
            "is ['O']\n",
            "the ['O']\n",
            "deadliest ['O']\n",
            "malaria ['S-Disease']\n",
            "parasite ['O']\n",
            "and ['O']\n",
            "the ['O']\n",
            "most ['O']\n",
            "prevalent ['O']\n",
            "on ['O']\n",
            "the ['O']\n",
            "African ['O']\n",
            "continent. ['O']\n",
            "P. ['O']\n",
            "vivax ['B-Organism']\n",
            "is ['O']\n",
            "the ['O']\n",
            "dominant ['O']\n",
            "malaria ['S-Disease']\n",
            "parasite ['O']\n",
            "in ['O']\n",
            "most ['O']\n",
            "countries ['O']\n",
            "outside ['O']\n",
            "of ['O']\n",
            "sub-Saharan ['O']\n",
            "Africa. ['O']\n"
          ]
        }
      ]
    },
    {
      "cell_type": "code",
      "source": [
        "#confusion matrix\n",
        "from sklearn.metrics import ConfusionMatrixDisplay\n",
        "#ConfusionMatrixDisplay.from_predictions(y_test,y_pred)"
      ],
      "metadata": {
        "id": "TewJ1pcbCzye"
      },
      "execution_count": null,
      "outputs": []
    },
    {
      "cell_type": "code",
      "source": [
        "# results\n",
        "#from sklearn.metrics import classification_report\n",
        "#report = classification_report(y_test,y_pred)\n",
        "#print(report)"
      ],
      "metadata": {
        "id": "jyQ09m3BDe79"
      },
      "execution_count": null,
      "outputs": []
    },
    {
      "cell_type": "markdown",
      "source": [
        "#SVM + COUNT VECTORIZER"
      ],
      "metadata": {
        "id": "lGs4fppiPJep"
      }
    },
    {
      "cell_type": "code",
      "source": [
        "X= data['text']\n",
        "y =data['label']"
      ],
      "metadata": {
        "id": "3KruNB9XO_U-"
      },
      "execution_count": null,
      "outputs": []
    },
    {
      "cell_type": "code",
      "source": [
        "X_train, X_test, y_train, y_test = train_test_split(X,y, test_size=0.2, random_state=0)"
      ],
      "metadata": {
        "id": "DVNOPIz3PWb4"
      },
      "execution_count": null,
      "outputs": []
    },
    {
      "cell_type": "code",
      "source": [
        "from sklearn.feature_extraction.text import CountVectorizer\n",
        "\n",
        "# Create a CountVectorizer object\n",
        "vec = CountVectorizer()\n",
        "#vectorizer = CountVectorizer(stop_words='english', lowercase=True, max_df=0.8, min_df=5)\n",
        "\n",
        "# Fit the vectorizer to the training data and transform the training data into a bag-of-words matrix\n",
        "X_train_vectors = vec.fit_transform(X_train)\n",
        "\n",
        "# Transform the test data into a bag-of-words matrix using the same vectorizer\n",
        "X_test_vectors = vec.transform(X_test)"
      ],
      "metadata": {
        "id": "LjdnwDbnDvEr"
      },
      "execution_count": null,
      "outputs": []
    },
    {
      "cell_type": "code",
      "source": [
        "# Encoding the classes in numerical values\n",
        "from sklearn.preprocessing import LabelEncoder\n",
        "encoder = LabelEncoder()\n",
        "y_train = encoder.fit_transform(y_train)\n",
        "y_test = encoder.fit_transform(y_test)"
      ],
      "metadata": {
        "id": "rPQ8npvgPqj-"
      },
      "execution_count": null,
      "outputs": []
    },
    {
      "cell_type": "code",
      "source": [
        "# Create SVM classifier\n",
        "clf = SVC(kernel='rbf', C=1, decision_function_shape='ovr')"
      ],
      "metadata": {
        "id": "hni9LRGQPwnA"
      },
      "execution_count": null,
      "outputs": []
    },
    {
      "cell_type": "code",
      "source": [
        "clf.fit(X_train_vectors, y_train)"
      ],
      "metadata": {
        "colab": {
          "base_uri": "https://localhost:8080/",
          "height": 74
        },
        "id": "U7mPaFU7P6_Q",
        "outputId": "6577dba6-b5ba-4fee-b2d4-70dd75dc9c6a"
      },
      "execution_count": null,
      "outputs": [
        {
          "output_type": "execute_result",
          "data": {
            "text/plain": [
              "SVC(C=1)"
            ],
            "text/html": [
              "<style>#sk-container-id-4 {color: black;background-color: white;}#sk-container-id-4 pre{padding: 0;}#sk-container-id-4 div.sk-toggleable {background-color: white;}#sk-container-id-4 label.sk-toggleable__label {cursor: pointer;display: block;width: 100%;margin-bottom: 0;padding: 0.3em;box-sizing: border-box;text-align: center;}#sk-container-id-4 label.sk-toggleable__label-arrow:before {content: \"▸\";float: left;margin-right: 0.25em;color: #696969;}#sk-container-id-4 label.sk-toggleable__label-arrow:hover:before {color: black;}#sk-container-id-4 div.sk-estimator:hover label.sk-toggleable__label-arrow:before {color: black;}#sk-container-id-4 div.sk-toggleable__content {max-height: 0;max-width: 0;overflow: hidden;text-align: left;background-color: #f0f8ff;}#sk-container-id-4 div.sk-toggleable__content pre {margin: 0.2em;color: black;border-radius: 0.25em;background-color: #f0f8ff;}#sk-container-id-4 input.sk-toggleable__control:checked~div.sk-toggleable__content {max-height: 200px;max-width: 100%;overflow: auto;}#sk-container-id-4 input.sk-toggleable__control:checked~label.sk-toggleable__label-arrow:before {content: \"▾\";}#sk-container-id-4 div.sk-estimator input.sk-toggleable__control:checked~label.sk-toggleable__label {background-color: #d4ebff;}#sk-container-id-4 div.sk-label input.sk-toggleable__control:checked~label.sk-toggleable__label {background-color: #d4ebff;}#sk-container-id-4 input.sk-hidden--visually {border: 0;clip: rect(1px 1px 1px 1px);clip: rect(1px, 1px, 1px, 1px);height: 1px;margin: -1px;overflow: hidden;padding: 0;position: absolute;width: 1px;}#sk-container-id-4 div.sk-estimator {font-family: monospace;background-color: #f0f8ff;border: 1px dotted black;border-radius: 0.25em;box-sizing: border-box;margin-bottom: 0.5em;}#sk-container-id-4 div.sk-estimator:hover {background-color: #d4ebff;}#sk-container-id-4 div.sk-parallel-item::after {content: \"\";width: 100%;border-bottom: 1px solid gray;flex-grow: 1;}#sk-container-id-4 div.sk-label:hover label.sk-toggleable__label {background-color: #d4ebff;}#sk-container-id-4 div.sk-serial::before {content: \"\";position: absolute;border-left: 1px solid gray;box-sizing: border-box;top: 0;bottom: 0;left: 50%;z-index: 0;}#sk-container-id-4 div.sk-serial {display: flex;flex-direction: column;align-items: center;background-color: white;padding-right: 0.2em;padding-left: 0.2em;position: relative;}#sk-container-id-4 div.sk-item {position: relative;z-index: 1;}#sk-container-id-4 div.sk-parallel {display: flex;align-items: stretch;justify-content: center;background-color: white;position: relative;}#sk-container-id-4 div.sk-item::before, #sk-container-id-4 div.sk-parallel-item::before {content: \"\";position: absolute;border-left: 1px solid gray;box-sizing: border-box;top: 0;bottom: 0;left: 50%;z-index: -1;}#sk-container-id-4 div.sk-parallel-item {display: flex;flex-direction: column;z-index: 1;position: relative;background-color: white;}#sk-container-id-4 div.sk-parallel-item:first-child::after {align-self: flex-end;width: 50%;}#sk-container-id-4 div.sk-parallel-item:last-child::after {align-self: flex-start;width: 50%;}#sk-container-id-4 div.sk-parallel-item:only-child::after {width: 0;}#sk-container-id-4 div.sk-dashed-wrapped {border: 1px dashed gray;margin: 0 0.4em 0.5em 0.4em;box-sizing: border-box;padding-bottom: 0.4em;background-color: white;}#sk-container-id-4 div.sk-label label {font-family: monospace;font-weight: bold;display: inline-block;line-height: 1.2em;}#sk-container-id-4 div.sk-label-container {text-align: center;}#sk-container-id-4 div.sk-container {/* jupyter's `normalize.less` sets `[hidden] { display: none; }` but bootstrap.min.css set `[hidden] { display: none !important; }` so we also need the `!important` here to be able to override the default hidden behavior on the sphinx rendered scikit-learn.org. See: https://github.com/scikit-learn/scikit-learn/issues/21755 */display: inline-block !important;position: relative;}#sk-container-id-4 div.sk-text-repr-fallback {display: none;}</style><div id=\"sk-container-id-4\" class=\"sk-top-container\"><div class=\"sk-text-repr-fallback\"><pre>SVC(C=1)</pre><b>In a Jupyter environment, please rerun this cell to show the HTML representation or trust the notebook. <br />On GitHub, the HTML representation is unable to render, please try loading this page with nbviewer.org.</b></div><div class=\"sk-container\" hidden><div class=\"sk-item\"><div class=\"sk-estimator sk-toggleable\"><input class=\"sk-toggleable__control sk-hidden--visually\" id=\"sk-estimator-id-4\" type=\"checkbox\" checked><label for=\"sk-estimator-id-4\" class=\"sk-toggleable__label sk-toggleable__label-arrow\">SVC</label><div class=\"sk-toggleable__content\"><pre>SVC(C=1)</pre></div></div></div></div></div>"
            ]
          },
          "metadata": {},
          "execution_count": 223
        }
      ]
    },
    {
      "cell_type": "code",
      "source": [
        "y_pred = clf.predict(X_test_vectors)"
      ],
      "metadata": {
        "id": "KsoYkmnkP_gE"
      },
      "execution_count": null,
      "outputs": []
    },
    {
      "cell_type": "code",
      "source": [
        "# Calculate accuracy\n",
        "accuracy = accuracy_score(y_test, y_pred)\n",
        "\n",
        "print(\"Accuracy:\", accuracy)"
      ],
      "metadata": {
        "colab": {
          "base_uri": "https://localhost:8080/"
        },
        "id": "WYkBoRmdQCtV",
        "outputId": "fffc8cfe-db69-4ad5-edc6-329fa68b864e"
      },
      "execution_count": null,
      "outputs": [
        {
          "output_type": "stream",
          "name": "stdout",
          "text": [
            "Accuracy: 0.9486103132870841\n"
          ]
        }
      ]
    },
    {
      "cell_type": "code",
      "source": [
        "new=\"\"\"Malaria is an acute febrile illness caused by Plasmodium parasites, which are spread to people through the bites of infected female Anopheles mosquitoes. It is preventable and curable.\"\"\"\n",
        "n=new.split()\n",
        "for i in n:\n",
        "    vector=vec.transform([i])\n",
        "    pred=clf.predict(vector)\n",
        "    print(i,encoder.inverse_transform(pred))"
      ],
      "metadata": {
        "colab": {
          "base_uri": "https://localhost:8080/"
        },
        "id": "W40bc7mVQIyV",
        "outputId": "54e57a12-3ba4-454a-aec7-161e8455c9b3"
      },
      "execution_count": null,
      "outputs": [
        {
          "output_type": "stream",
          "name": "stdout",
          "text": [
            "Malaria ['S-Disease']\n",
            "is ['O']\n",
            "an ['O']\n",
            "acute ['O']\n",
            "febrile ['O']\n",
            "illness ['O']\n",
            "caused ['O']\n",
            "by ['O']\n",
            "Plasmodium ['B-Organism']\n",
            "parasites, ['O']\n",
            "which ['O']\n",
            "are ['O']\n",
            "spread ['O']\n",
            "to ['O']\n",
            "people ['O']\n",
            "through ['O']\n",
            "the ['O']\n",
            "bites ['O']\n",
            "of ['O']\n",
            "infected ['O']\n",
            "female ['O']\n",
            "Anopheles ['B-Organism']\n",
            "mosquitoes. ['O']\n",
            "It ['O']\n",
            "is ['O']\n",
            "preventable ['O']\n",
            "and ['O']\n",
            "curable. ['O']\n"
          ]
        }
      ]
    },
    {
      "cell_type": "markdown",
      "source": [
        "## LOGISTIC REGRESSION + COUNT VECTORIZER"
      ],
      "metadata": {
        "id": "bEMMzzuqRMRd"
      }
    },
    {
      "cell_type": "code",
      "source": [
        "from sklearn.linear_model import LogisticRegression\n",
        "\n",
        "# Create logistic regression classifier\n",
        "clsf = LogisticRegression(random_state=0, max_iter=1000, multi_class='ovr')\n",
        "\n",
        "# Train the classifier on the training data\n",
        "clsf.fit(X_train_vectors, y_train)\n",
        "\n",
        "# Predict the labels of the test data\n",
        "y_pred = clsf.predict(X_test_vectors)"
      ],
      "metadata": {
        "id": "0gYknaXIRUms"
      },
      "execution_count": null,
      "outputs": []
    },
    {
      "cell_type": "code",
      "source": [
        "# Calculate accuracy\n",
        "accuracy = accuracy_score(y_test, y_pred)\n",
        "\n",
        "print(\"Accuracy:\", accuracy)"
      ],
      "metadata": {
        "colab": {
          "base_uri": "https://localhost:8080/"
        },
        "id": "yV9Tl88zSRf-",
        "outputId": "c0cdc9dc-ffad-487c-de32-5e43cc045da4"
      },
      "execution_count": null,
      "outputs": [
        {
          "output_type": "stream",
          "name": "stdout",
          "text": [
            "Accuracy: 0.9398170650877116\n"
          ]
        }
      ]
    },
    {
      "cell_type": "code",
      "source": [
        "new=\"\"\"Malaria is an acute febrile illness caused by Plasmodium parasites, which are spread to people through the bites of infected female Anopheles mosquitoes. It is preventable and curable.\"\"\"\n",
        "n=new.split()\n",
        "for i in n:\n",
        "    vector=vec.transform([i])\n",
        "    pred=clsf.predict(vector)\n",
        "    print(i,encoder.inverse_transform(pred))"
      ],
      "metadata": {
        "colab": {
          "base_uri": "https://localhost:8080/"
        },
        "id": "xbZqba_3SVi4",
        "outputId": "40ae6fb8-f05f-4753-82d8-92ba1d9f4c40"
      },
      "execution_count": null,
      "outputs": [
        {
          "output_type": "stream",
          "name": "stdout",
          "text": [
            "Malaria ['S-Disease']\n",
            "is ['O']\n",
            "an ['O']\n",
            "acute ['O']\n",
            "febrile ['O']\n",
            "illness ['O']\n",
            "caused ['O']\n",
            "by ['O']\n",
            "Plasmodium ['B-Organism']\n",
            "parasites, ['O']\n",
            "which ['O']\n",
            "are ['O']\n",
            "spread ['O']\n",
            "to ['O']\n",
            "people ['O']\n",
            "through ['O']\n",
            "the ['O']\n",
            "bites ['O']\n",
            "of ['O']\n",
            "infected ['O']\n",
            "female ['O']\n",
            "Anopheles ['B-Organism']\n",
            "mosquitoes. ['O']\n",
            "It ['O']\n",
            "is ['O']\n",
            "preventable ['O']\n",
            "and ['O']\n",
            "curable. ['O']\n"
          ]
        }
      ]
    },
    {
      "cell_type": "markdown",
      "source": [
        "## RANDOM FOREST + COUNT VECTORIZER"
      ],
      "metadata": {
        "id": "eM9ELXg5Sc-1"
      }
    },
    {
      "cell_type": "code",
      "source": [
        "from sklearn.ensemble import RandomForestClassifier\n",
        "\n",
        "# Create Random Forest classifier\n",
        "cl = RandomForestClassifier(n_estimators=100, random_state=0)\n",
        "\n",
        "# Train the classifier on the training data\n",
        "cl.fit(X_train_vectors, y_train)\n",
        "\n",
        "# Predict the labels of the test data\n",
        "y_pred = cl.predict(X_test_vectors)"
      ],
      "metadata": {
        "id": "KGWL4dJ5R3qe"
      },
      "execution_count": null,
      "outputs": []
    },
    {
      "cell_type": "code",
      "source": [
        "# Calculate accuracy\n",
        "accuracy = accuracy_score(y_test, y_pred)\n",
        "\n",
        "print(\"Accuracy:\", accuracy)"
      ],
      "metadata": {
        "colab": {
          "base_uri": "https://localhost:8080/"
        },
        "id": "tofLdhzrS74_",
        "outputId": "ddc71914-e2ad-4697-9066-e1ab8709484d"
      },
      "execution_count": null,
      "outputs": [
        {
          "output_type": "stream",
          "name": "stdout",
          "text": [
            "Accuracy: 0.9500684901241659\n"
          ]
        }
      ]
    },
    {
      "cell_type": "code",
      "source": [
        "new=\"\"\"Malaria is an acute febrile illness caused by Plasmodium parasites, which are spread to people through the bites of infected female Anopheles mosquitoes. It is preventable and curable.\"\"\"\n",
        "n=new.split()\n",
        "for i in n:\n",
        "    vector=vec.transform([i])\n",
        "    pred=clsf.predict(vector)\n",
        "    print(i,encoder.inverse_transform(pred))"
      ],
      "metadata": {
        "colab": {
          "base_uri": "https://localhost:8080/"
        },
        "id": "eMDEmIEKS764",
        "outputId": "8d5affa7-24f0-49d3-c7cc-4a1e896fea78"
      },
      "execution_count": null,
      "outputs": [
        {
          "output_type": "stream",
          "name": "stdout",
          "text": [
            "Malaria ['S-Disease']\n",
            "is ['O']\n",
            "an ['O']\n",
            "acute ['O']\n",
            "febrile ['O']\n",
            "illness ['O']\n",
            "caused ['O']\n",
            "by ['O']\n",
            "Plasmodium ['B-Organism']\n",
            "parasites, ['O']\n",
            "which ['O']\n",
            "are ['O']\n",
            "spread ['O']\n",
            "to ['O']\n",
            "people ['O']\n",
            "through ['O']\n",
            "the ['O']\n",
            "bites ['O']\n",
            "of ['O']\n",
            "infected ['O']\n",
            "female ['O']\n",
            "Anopheles ['B-Organism']\n",
            "mosquitoes. ['O']\n",
            "It ['O']\n",
            "is ['O']\n",
            "preventable ['O']\n",
            "and ['O']\n",
            "curable. ['O']\n"
          ]
        }
      ]
    },
    {
      "cell_type": "markdown",
      "source": [
        "## NAIVE BAYES+COUNT VECTORIZER"
      ],
      "metadata": {
        "id": "BS5AV8upTfN0"
      }
    },
    {
      "cell_type": "code",
      "source": [
        "# Create Naive Bayes classifier\n",
        "c = MultinomialNB()\n",
        "\n",
        "# Train the classifier on the training data\n",
        "c.fit(X_train_vectors, y_train)\n",
        "\n",
        "# Predict the labels of the test data\n",
        "y_pred = c.predict(X_test_vectors)"
      ],
      "metadata": {
        "id": "4b7DQf2TS7-L"
      },
      "execution_count": null,
      "outputs": []
    },
    {
      "cell_type": "code",
      "source": [
        "# Calculate accuracy\n",
        "accuracy = accuracy_score(y_test, y_pred)\n",
        "\n",
        "print(\"Accuracy:\", accuracy)"
      ],
      "metadata": {
        "colab": {
          "base_uri": "https://localhost:8080/"
        },
        "id": "X4T_hrCvTqQt",
        "outputId": "f8769577-57b3-41c7-845a-87ac0a8ba6b3"
      },
      "execution_count": null,
      "outputs": [
        {
          "output_type": "stream",
          "name": "stdout",
          "text": [
            "Accuracy: 0.9313773143033891\n"
          ]
        }
      ]
    },
    {
      "cell_type": "code",
      "source": [
        "new=\"\"\"Malaria is an acute febrile illness caused by Plasmodium parasites, which are spread to people through the bites of infected female Anopheles mosquitoes. It is preventable and curable.\"\"\"\n",
        "n=new.split()\n",
        "for i in n:\n",
        "    vector=vec.transform([i])\n",
        "    pred=clsf.predict(vector)\n",
        "    print(i,encoder.inverse_transform(pred))"
      ],
      "metadata": {
        "id": "uYBJ-AaoTtOK"
      },
      "execution_count": null,
      "outputs": []
    },
    {
      "cell_type": "markdown",
      "source": [
        "## SVM + WORD2VEC"
      ],
      "metadata": {
        "id": "HxsvW1HGQcvV"
      }
    },
    {
      "cell_type": "code",
      "source": [
        "import numpy as np\n",
        "from gensim.models import Word2Vec"
      ],
      "metadata": {
        "id": "rN2bD2IBQleR"
      },
      "execution_count": 86,
      "outputs": []
    },
    {
      "cell_type": "code",
      "source": [
        "# Split the text and labels into separate lists\n",
        "sentences = [text.split() for text in data[\"text\"]]\n",
        "labels = data[\"label\"]"
      ],
      "metadata": {
        "id": "KaxxI24lCNHN"
      },
      "execution_count": 87,
      "outputs": []
    },
    {
      "cell_type": "code",
      "source": [
        "# Train a Word2Vec model on the text data\n",
        "model = Word2Vec(sentences, size=100, window=5, min_count=5, workers=4)"
      ],
      "metadata": {
        "id": "5ojwENdnCah0"
      },
      "execution_count": 88,
      "outputs": []
    },
    {
      "cell_type": "code",
      "source": [
        "# Convert each text into a fixed-size vector using the Word2Vec model\n",
        "X = np.zeros((len(sentences), 100))\n",
        "for i, sentence in enumerate(sentences):\n",
        "    for word in sentence:\n",
        "        if word in model.wv:\n",
        "            X[i] += model.wv[word]\n",
        "    X[i] /= len(sentence)"
      ],
      "metadata": {
        "id": "BewTR-ziCmBg"
      },
      "execution_count": 89,
      "outputs": []
    },
    {
      "cell_type": "code",
      "source": [
        "# Split the data into training and testing sets\n",
        "from sklearn.model_selection import train_test_split\n",
        "X_train, X_test, y_train, y_test = train_test_split(X, labels, test_size=0.2, random_state=42)"
      ],
      "metadata": {
        "id": "6vuUuoeuC0-L"
      },
      "execution_count": 90,
      "outputs": []
    },
    {
      "cell_type": "code",
      "source": [
        "# Create SVM classifier\n",
        "clf = SVC(kernel='rbf', C=1, decision_function_shape='ovr')"
      ],
      "metadata": {
        "id": "U6Y8RAw0C5EJ"
      },
      "execution_count": 76,
      "outputs": []
    },
    {
      "cell_type": "code",
      "source": [
        "clf.fit(X_train, y_train)"
      ],
      "metadata": {
        "colab": {
          "base_uri": "https://localhost:8080/",
          "height": 74
        },
        "id": "7oviQkK0DI46",
        "outputId": "401bb192-99c9-4c6b-cf60-0305758ea36e"
      },
      "execution_count": 77,
      "outputs": [
        {
          "output_type": "execute_result",
          "data": {
            "text/plain": [
              "SVC(C=1)"
            ],
            "text/html": [
              "<style>#sk-container-id-2 {color: black;background-color: white;}#sk-container-id-2 pre{padding: 0;}#sk-container-id-2 div.sk-toggleable {background-color: white;}#sk-container-id-2 label.sk-toggleable__label {cursor: pointer;display: block;width: 100%;margin-bottom: 0;padding: 0.3em;box-sizing: border-box;text-align: center;}#sk-container-id-2 label.sk-toggleable__label-arrow:before {content: \"▸\";float: left;margin-right: 0.25em;color: #696969;}#sk-container-id-2 label.sk-toggleable__label-arrow:hover:before {color: black;}#sk-container-id-2 div.sk-estimator:hover label.sk-toggleable__label-arrow:before {color: black;}#sk-container-id-2 div.sk-toggleable__content {max-height: 0;max-width: 0;overflow: hidden;text-align: left;background-color: #f0f8ff;}#sk-container-id-2 div.sk-toggleable__content pre {margin: 0.2em;color: black;border-radius: 0.25em;background-color: #f0f8ff;}#sk-container-id-2 input.sk-toggleable__control:checked~div.sk-toggleable__content {max-height: 200px;max-width: 100%;overflow: auto;}#sk-container-id-2 input.sk-toggleable__control:checked~label.sk-toggleable__label-arrow:before {content: \"▾\";}#sk-container-id-2 div.sk-estimator input.sk-toggleable__control:checked~label.sk-toggleable__label {background-color: #d4ebff;}#sk-container-id-2 div.sk-label input.sk-toggleable__control:checked~label.sk-toggleable__label {background-color: #d4ebff;}#sk-container-id-2 input.sk-hidden--visually {border: 0;clip: rect(1px 1px 1px 1px);clip: rect(1px, 1px, 1px, 1px);height: 1px;margin: -1px;overflow: hidden;padding: 0;position: absolute;width: 1px;}#sk-container-id-2 div.sk-estimator {font-family: monospace;background-color: #f0f8ff;border: 1px dotted black;border-radius: 0.25em;box-sizing: border-box;margin-bottom: 0.5em;}#sk-container-id-2 div.sk-estimator:hover {background-color: #d4ebff;}#sk-container-id-2 div.sk-parallel-item::after {content: \"\";width: 100%;border-bottom: 1px solid gray;flex-grow: 1;}#sk-container-id-2 div.sk-label:hover label.sk-toggleable__label {background-color: #d4ebff;}#sk-container-id-2 div.sk-serial::before {content: \"\";position: absolute;border-left: 1px solid gray;box-sizing: border-box;top: 0;bottom: 0;left: 50%;z-index: 0;}#sk-container-id-2 div.sk-serial {display: flex;flex-direction: column;align-items: center;background-color: white;padding-right: 0.2em;padding-left: 0.2em;position: relative;}#sk-container-id-2 div.sk-item {position: relative;z-index: 1;}#sk-container-id-2 div.sk-parallel {display: flex;align-items: stretch;justify-content: center;background-color: white;position: relative;}#sk-container-id-2 div.sk-item::before, #sk-container-id-2 div.sk-parallel-item::before {content: \"\";position: absolute;border-left: 1px solid gray;box-sizing: border-box;top: 0;bottom: 0;left: 50%;z-index: -1;}#sk-container-id-2 div.sk-parallel-item {display: flex;flex-direction: column;z-index: 1;position: relative;background-color: white;}#sk-container-id-2 div.sk-parallel-item:first-child::after {align-self: flex-end;width: 50%;}#sk-container-id-2 div.sk-parallel-item:last-child::after {align-self: flex-start;width: 50%;}#sk-container-id-2 div.sk-parallel-item:only-child::after {width: 0;}#sk-container-id-2 div.sk-dashed-wrapped {border: 1px dashed gray;margin: 0 0.4em 0.5em 0.4em;box-sizing: border-box;padding-bottom: 0.4em;background-color: white;}#sk-container-id-2 div.sk-label label {font-family: monospace;font-weight: bold;display: inline-block;line-height: 1.2em;}#sk-container-id-2 div.sk-label-container {text-align: center;}#sk-container-id-2 div.sk-container {/* jupyter's `normalize.less` sets `[hidden] { display: none; }` but bootstrap.min.css set `[hidden] { display: none !important; }` so we also need the `!important` here to be able to override the default hidden behavior on the sphinx rendered scikit-learn.org. See: https://github.com/scikit-learn/scikit-learn/issues/21755 */display: inline-block !important;position: relative;}#sk-container-id-2 div.sk-text-repr-fallback {display: none;}</style><div id=\"sk-container-id-2\" class=\"sk-top-container\"><div class=\"sk-text-repr-fallback\"><pre>SVC(C=1)</pre><b>In a Jupyter environment, please rerun this cell to show the HTML representation or trust the notebook. <br />On GitHub, the HTML representation is unable to render, please try loading this page with nbviewer.org.</b></div><div class=\"sk-container\" hidden><div class=\"sk-item\"><div class=\"sk-estimator sk-toggleable\"><input class=\"sk-toggleable__control sk-hidden--visually\" id=\"sk-estimator-id-2\" type=\"checkbox\" checked><label for=\"sk-estimator-id-2\" class=\"sk-toggleable__label sk-toggleable__label-arrow\">SVC</label><div class=\"sk-toggleable__content\"><pre>SVC(C=1)</pre></div></div></div></div></div>"
            ]
          },
          "metadata": {},
          "execution_count": 77
        }
      ]
    },
    {
      "cell_type": "code",
      "source": [
        "# Predict the labels of the test data\n",
        "y_pred = clf.predict(X_test)"
      ],
      "metadata": {
        "id": "17RS0i2ADPKi"
      },
      "execution_count": 21,
      "outputs": []
    },
    {
      "cell_type": "code",
      "source": [
        "# Calculate accuracy\n",
        "accuracy = accuracy_score(y_test, y_pred)\n",
        "\n",
        "print(\"Accuracy:\", accuracy)"
      ],
      "metadata": {
        "colab": {
          "base_uri": "https://localhost:8080/"
        },
        "id": "4516W461DgFk",
        "outputId": "ac69f6c3-eb48-4cb1-bb4f-2dd88add1f93"
      },
      "execution_count": 22,
      "outputs": [
        {
          "output_type": "stream",
          "name": "stdout",
          "text": [
            "Accuracy: 0.9460474570279704\n"
          ]
        }
      ]
    },
    {
      "cell_type": "code",
      "source": [
        "# Tokenize a new sentence into a list of words\n",
        "new_sentence = \"Malaria is an infectious disease transmitted by the female Anopheles mosquito and poses a severe threat to human health. At present, antimalarial drugs are the primary treatment for malaria.\"\n",
        "new_words = new_sentence.split()\n",
        "\n",
        "# Use the trained classification model to predict the label of each word in the sentence\n",
        "for word in new_words:\n",
        "    # Obtain the vector representation of the word\n",
        "    if word in model.wv:\n",
        "        word_vector = model.wv[word]\n",
        "    else:\n",
        "        # If the word is not in the vocabulary, use a zero vector instead\n",
        "        word_vector = np.zeros(model.vector_size)\n",
        "\n",
        "    # Use the trained classification model to predict the label of the word based on its vector representation\n",
        "    label = clf.predict([word_vector])\n",
        "    print(\"Predicted label for word '{}': {}\".format(word, label))"
      ],
      "metadata": {
        "colab": {
          "base_uri": "https://localhost:8080/"
        },
        "id": "ZFCFHVokb1Bc",
        "outputId": "2d31d17d-bce6-42ca-f43a-b5386026718b"
      },
      "execution_count": 79,
      "outputs": [
        {
          "output_type": "stream",
          "name": "stdout",
          "text": [
            "Predicted label for word 'Malaria': ['S-Disease']\n",
            "Predicted label for word 'is': ['O']\n",
            "Predicted label for word 'an': ['O']\n",
            "Predicted label for word 'infectious': ['O']\n",
            "Predicted label for word 'disease': ['O']\n",
            "Predicted label for word 'transmitted': ['O']\n",
            "Predicted label for word 'by': ['O']\n",
            "Predicted label for word 'the': ['O']\n",
            "Predicted label for word 'female': ['O']\n",
            "Predicted label for word 'Anopheles': ['B-Organism']\n",
            "Predicted label for word 'mosquito': ['O']\n",
            "Predicted label for word 'and': ['O']\n",
            "Predicted label for word 'poses': ['O']\n",
            "Predicted label for word 'a': ['O']\n",
            "Predicted label for word 'severe': ['O']\n",
            "Predicted label for word 'threat': ['O']\n",
            "Predicted label for word 'to': ['O']\n",
            "Predicted label for word 'human': ['O']\n",
            "Predicted label for word 'health.': ['O']\n",
            "Predicted label for word 'At': ['O']\n",
            "Predicted label for word 'present,': ['O']\n",
            "Predicted label for word 'antimalarial': ['O']\n",
            "Predicted label for word 'drugs': ['O']\n",
            "Predicted label for word 'are': ['O']\n",
            "Predicted label for word 'the': ['O']\n",
            "Predicted label for word 'primary': ['O']\n",
            "Predicted label for word 'treatment': ['O']\n",
            "Predicted label for word 'for': ['O']\n",
            "Predicted label for word 'malaria.': ['S-Disease']\n"
          ]
        }
      ]
    },
    {
      "cell_type": "markdown",
      "source": [
        "## LOGISTIC REGRESSION + WORD2VEC"
      ],
      "metadata": {
        "id": "CNZb2F27HrD3"
      }
    },
    {
      "cell_type": "code",
      "source": [
        "from sklearn.linear_model import LogisticRegression\n",
        "\n",
        "# Create logistic regression classifier\n",
        "clsf = LogisticRegression(random_state=0, max_iter=1000, multi_class='ovr')\n",
        "\n",
        "# Train the classifier on the training data\n",
        "clsf.fit(X_train, y_train)\n",
        "\n",
        "# Predict the labels of the test data\n",
        "y_pred = clsf.predict(X_test)"
      ],
      "metadata": {
        "id": "ABVyStZMHvhu"
      },
      "execution_count": 80,
      "outputs": []
    },
    {
      "cell_type": "code",
      "source": [
        "# Calculate accuracy\n",
        "accuracy = accuracy_score(y_test, y_pred)\n",
        "\n",
        "print(\"Accuracy:\", accuracy)"
      ],
      "metadata": {
        "colab": {
          "base_uri": "https://localhost:8080/"
        },
        "id": "0i0VuoMuc2ls",
        "outputId": "364a361e-4a25-4c53-cdbc-8c592c4c5277"
      },
      "execution_count": 81,
      "outputs": [
        {
          "output_type": "stream",
          "name": "stdout",
          "text": [
            "Accuracy: 0.9312005655958641\n"
          ]
        }
      ]
    },
    {
      "cell_type": "code",
      "source": [
        "# Tokenize a new sentence into a list of words\n",
        "new_sentence = \"Malaria is an infectious disease transmitted by the female Anopheles mosquito and poses a severe threat to human health.\"\n",
        "new_words = new_sentence.split()\n",
        "\n",
        "# Use the trained classification model to predict the label of each word in the sentence\n",
        "for word in new_words:\n",
        "    # Obtain the vector representation of the word\n",
        "    if word in model.wv:\n",
        "        word_vector = model.wv[word]\n",
        "    else:\n",
        "        # If the word is not in the vocabulary, use a zero vector instead\n",
        "        word_vector = np.zeros(model.vector_size)\n",
        "\n",
        "    # Use the trained classification model to predict the label of the word based on its vector representation\n",
        "    label = clsf.predict([word_vector])\n",
        "    print(\"Predicted label for word '{}': {}\".format(word, label))"
      ],
      "metadata": {
        "colab": {
          "base_uri": "https://localhost:8080/"
        },
        "id": "oLNN9H_QcxmP",
        "outputId": "47b7125d-104b-45ba-dae4-2201930684cf"
      },
      "execution_count": 100,
      "outputs": [
        {
          "output_type": "stream",
          "name": "stdout",
          "text": [
            "Predicted label for word 'Malaria': ['O']\n",
            "Predicted label for word 'is': ['O']\n",
            "Predicted label for word 'an': ['O']\n",
            "Predicted label for word 'infectious': ['O']\n",
            "Predicted label for word 'disease': ['O']\n",
            "Predicted label for word 'transmitted': ['O']\n",
            "Predicted label for word 'by': ['O']\n",
            "Predicted label for word 'the': ['O']\n",
            "Predicted label for word 'female': ['O']\n",
            "Predicted label for word 'Anopheles': ['O']\n",
            "Predicted label for word 'mosquito': ['O']\n",
            "Predicted label for word 'and': ['O']\n",
            "Predicted label for word 'poses': ['O']\n",
            "Predicted label for word 'a': ['O']\n",
            "Predicted label for word 'severe': ['O']\n",
            "Predicted label for word 'threat': ['O']\n",
            "Predicted label for word 'to': ['O']\n",
            "Predicted label for word 'human': ['O']\n",
            "Predicted label for word 'health.': ['O']\n"
          ]
        }
      ]
    },
    {
      "cell_type": "markdown",
      "source": [
        "## NAIVE BAYES + WORD2VEC"
      ],
      "metadata": {
        "id": "Y_SC0r5WpYVf"
      }
    },
    {
      "cell_type": "code",
      "source": [
        "# Create Naive Bayes classifier\n",
        "from sklearn.naive_bayes import GaussianNB\n",
        "c = GaussianNB()\n",
        "\n",
        "# Train the classifier on the training data\n",
        "c.fit(X_train, y_train)\n",
        "\n",
        "# Predict the labels of the test data\n",
        "y_pred = c.predict(X_test)"
      ],
      "metadata": {
        "id": "Y2jSZ3luc_hW"
      },
      "execution_count": 64,
      "outputs": []
    },
    {
      "cell_type": "code",
      "source": [
        "# Calculate accuracy\n",
        "accuracy = accuracy_score(y_test, y_pred)\n",
        "\n",
        "print(\"Accuracy:\", accuracy)"
      ],
      "metadata": {
        "colab": {
          "base_uri": "https://localhost:8080/"
        },
        "id": "qZzrDLH_fAhh",
        "outputId": "78649ba3-27e5-445d-cce0-b1100de7676c"
      },
      "execution_count": 65,
      "outputs": [
        {
          "output_type": "stream",
          "name": "stdout",
          "text": [
            "Accuracy: 0.8102160752949494\n"
          ]
        }
      ]
    },
    {
      "cell_type": "code",
      "source": [
        "# Tokenize a new sentence into a list of words\n",
        "new_sentence = \"\"\"SARS-CoV-2 infection that led to the COVID-19 pandemic has changed human health and the economy globally. \"\"\"\n",
        "new_words = new_sentence.split()\n",
        "\n",
        "# Use the trained classification model to predict the label of each word in the sentence\n",
        "for word in new_words:\n",
        "    # Obtain the vector representation of the word\n",
        "    if word in model.wv:\n",
        "        word_vector = model.wv[word]\n",
        "    else:\n",
        "        # If the word is not in the vocabulary, use a zero vector instead\n",
        "        word_vector = np.zeros(model.vector_size)\n",
        "\n",
        "    # Use the trained classification model to predict the label of the word based on its vector representation\n",
        "    label = c.predict([word_vector])\n",
        "    print(\"Predicted label for word '{}': {}\".format(word, label))"
      ],
      "metadata": {
        "colab": {
          "base_uri": "https://localhost:8080/"
        },
        "id": "421rEFxIpMK_",
        "outputId": "bfba19bb-5980-4729-f015-c6adadba7d80"
      },
      "execution_count": 96,
      "outputs": [
        {
          "output_type": "stream",
          "name": "stdout",
          "text": [
            "Predicted label for word 'SARS-CoV-2': ['O']\n",
            "Predicted label for word 'infection': ['I-Disease']\n",
            "Predicted label for word 'that': ['O']\n",
            "Predicted label for word 'led': ['O']\n",
            "Predicted label for word 'to': ['O']\n",
            "Predicted label for word 'the': ['O']\n",
            "Predicted label for word 'COVID-19': ['O']\n",
            "Predicted label for word 'pandemic': ['O']\n",
            "Predicted label for word 'has': ['O']\n",
            "Predicted label for word 'changed': ['E-Gene']\n",
            "Predicted label for word 'human': ['O']\n",
            "Predicted label for word 'health': ['O']\n",
            "Predicted label for word 'and': ['O']\n",
            "Predicted label for word 'the': ['O']\n",
            "Predicted label for word 'economy': ['E-Gene']\n",
            "Predicted label for word 'globally.': ['E-Gene']\n"
          ]
        }
      ]
    },
    {
      "cell_type": "markdown",
      "source": [
        "## RANDOM FOREST +WORD2VEC"
      ],
      "metadata": {
        "id": "mmYgokvdrp41"
      }
    },
    {
      "cell_type": "code",
      "source": [
        "from sklearn.ensemble import RandomForestClassifier\n",
        "\n",
        "# Create Random Forest classifier\n",
        "cl = RandomForestClassifier(n_estimators=100, random_state=0)\n",
        "\n",
        "# Train the classifier on the training data\n",
        "cl.fit(X_train, y_train)\n",
        "\n",
        "# Predict the labels of the test data\n",
        "y_pred = cl.predict(X_test)"
      ],
      "metadata": {
        "id": "8yedHk3bpTqu"
      },
      "execution_count": 91,
      "outputs": []
    },
    {
      "cell_type": "code",
      "source": [
        "# Calculate accuracy\n",
        "accuracy = accuracy_score(y_test, y_pred)\n",
        "\n",
        "print(\"Accuracy:\", accuracy)"
      ],
      "metadata": {
        "colab": {
          "base_uri": "https://localhost:8080/"
        },
        "id": "o4Mj2ItmsFL3",
        "outputId": "a6706e38-076c-4c94-c2f4-4540a2a83d9e"
      },
      "execution_count": 84,
      "outputs": [
        {
          "output_type": "stream",
          "name": "stdout",
          "text": [
            "Accuracy: 0.9470637620962397\n"
          ]
        }
      ]
    },
    {
      "cell_type": "code",
      "source": [
        "# Tokenize a new sentence into a list of words\n",
        "new_sentence = \"\"\"SARS-CoV-2 infection that led to the COVID-19 pandemic has changed human health and the economy globally.\"\"\"\n",
        "new_words = new_sentence.split()\n",
        "\n",
        "# Use the trained classification model to predict the label of each word in the sentence\n",
        "for word in new_words:\n",
        "    # Obtain the vector representation of the word\n",
        "    if word in model.wv:\n",
        "        word_vector = model.wv[word]\n",
        "    else:\n",
        "        # If the word is not in the vocabulary, use a zero vector instead\n",
        "        word_vector = np.zeros(model.vector_size)\n",
        "\n",
        "    # Use the trained classification model to predict the label of the word based on its vector representation\n",
        "    label = cl.predict([word_vector])\n",
        "    print(\"Predicted label for word '{}': {}\".format(word, label))"
      ],
      "metadata": {
        "colab": {
          "base_uri": "https://localhost:8080/"
        },
        "id": "OtRkhLyisHaP",
        "outputId": "1c832422-f1db-4246-d86a-948bdf68a330"
      },
      "execution_count": 98,
      "outputs": [
        {
          "output_type": "stream",
          "name": "stdout",
          "text": [
            "Predicted label for word 'SARS-CoV-2': ['S-Organism']\n",
            "Predicted label for word 'infection': ['O']\n",
            "Predicted label for word 'that': ['O']\n",
            "Predicted label for word 'led': ['O']\n",
            "Predicted label for word 'to': ['O']\n",
            "Predicted label for word 'the': ['O']\n",
            "Predicted label for word 'COVID-19': ['S-Disease']\n",
            "Predicted label for word 'pandemic': ['O']\n",
            "Predicted label for word 'has': ['O']\n",
            "Predicted label for word 'changed': ['O']\n",
            "Predicted label for word 'human': ['O']\n",
            "Predicted label for word 'health': ['O']\n",
            "Predicted label for word 'and': ['O']\n",
            "Predicted label for word 'the': ['O']\n",
            "Predicted label for word 'economy': ['O']\n",
            "Predicted label for word 'malaria': ['S-Disease']\n",
            "Predicted label for word 'globally.': ['O']\n"
          ]
        }
      ]
    },
    {
      "cell_type": "markdown",
      "source": [
        "### TfidfVectorizer +CountVectorizer+SVM"
      ],
      "metadata": {
        "id": "HxPHXGynlMl2"
      }
    },
    {
      "cell_type": "code",
      "source": [
        "from sklearn.feature_extraction.text import TfidfVectorizer, CountVectorizer\n",
        "from sklearn.preprocessing import normalize\n",
        "import numpy as np"
      ],
      "metadata": {
        "id": "5NLNVPrulDol"
      },
      "execution_count": 6,
      "outputs": []
    },
    {
      "cell_type": "code",
      "source": [
        "data.duplicated().sum()\n",
        "data.drop_duplicates(inplace=True)"
      ],
      "metadata": {
        "id": "m-Vk7xF-p5df"
      },
      "execution_count": 7,
      "outputs": []
    },
    {
      "cell_type": "code",
      "source": [
        "X = data['text']\n",
        "y=data['label']"
      ],
      "metadata": {
        "id": "gUnyBcVrqCTq"
      },
      "execution_count": 8,
      "outputs": []
    },
    {
      "cell_type": "code",
      "source": [
        "#Split data into train and test sets\n",
        "X_train, X_test, y_train, y_test = train_test_split(X,y, test_size=0.2, random_state=0)"
      ],
      "metadata": {
        "id": "gIaKZlgumweh"
      },
      "execution_count": 9,
      "outputs": []
    },
    {
      "cell_type": "code",
      "source": [
        "# Apply CountVectorizer and TfidfVectorizer to the train and test data\n",
        "cv = CountVectorizer()\n",
        "tfidf = TfidfVectorizer()\n",
        "\n",
        "X_train_cv = cv.fit_transform(X_train)\n",
        "X_test_cv = cv.transform(X_test)\n",
        "\n",
        "X_train_tfidf = tfidf.fit_transform(X_train)\n",
        "X_test_tfidf = tfidf.transform(X_test)"
      ],
      "metadata": {
        "id": "ZX26-e_Ljdkb"
      },
      "execution_count": 10,
      "outputs": []
    },
    {
      "cell_type": "code",
      "source": [
        "# Concatenate the CountVectorizer and TfidfVectorizer features\n",
        "X_train_combined = np.concatenate((X_train_cv.toarray(), X_train_tfidf.toarray()), axis=1)\n",
        "X_test_combined = np.concatenate((X_test_cv.toarray(), X_test_tfidf.toarray()), axis=1)"
      ],
      "metadata": {
        "id": "w508nvyTmfx1"
      },
      "execution_count": 11,
      "outputs": []
    },
    {
      "cell_type": "code",
      "source": [
        "# Create SVM classifier\n",
        "clf = SVC(kernel='rbf', C=1, decision_function_shape='ovr')\n",
        "clf.fit(X_train_combined, y_train)\n",
        "# Predict the labels of the test data\n",
        "y_pred = clf.predict(X_test_combined)"
      ],
      "metadata": {
        "id": "JLXKxvvZqdJu"
      },
      "execution_count": null,
      "outputs": []
    },
    {
      "cell_type": "markdown",
      "source": [
        "### TFIDF+ word2vec+SVM"
      ],
      "metadata": {
        "id": "Fg5PxAYu34Ds"
      }
    }
  ]
}